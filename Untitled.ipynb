{
 "cells": [
  {
   "cell_type": "code",
   "execution_count": 1,
   "id": "d52cd730-cbcb-48fc-8513-c68262175b3e",
   "metadata": {},
   "outputs": [],
   "source": [
    "WORKSPACE_PATH = 'Tensorflow/workspace'\n",
    "SCRIPTS_PATH = 'Tensorflow/scripts'\n",
    "APIMODEL_PATH = 'Tensorflow/models'\n",
    "ANNOTATION_PATH = WORKSPACE_PATH+'/annotations'\n",
    "IMAGE_PATH = WORKSPACE_PATH+'/images'\n",
    "MODEL_PATH = WORKSPACE_PATH+'/models'\n",
    "PRETRAINED_MODEL_PATH = WORKSPACE_PATH+'/pre-trained-models'\n",
    "CONFIG_PATH = MODEL_PATH+'/my_ssd_mobnet/pipeline.config'\n",
    "CHECKPOINT_PATH = MODEL_PATH+'/my_ssd_mobnet/'"
   ]
  },
  {
   "cell_type": "code",
   "execution_count": 2,
   "id": "5fa1fdf3-7258-4f66-a9b0-94e6a8a5af2d",
   "metadata": {},
   "outputs": [],
   "source": [
    "labels = [{'name':'A', 'id':1},\n",
    "          {'name':'B', 'id':2},\n",
    "          {'name':'C', 'id':3},\n",
    "          {'name':'D', 'id':4},\n",
    "          {'name':'E', 'id':5},\n",
    "          {'name':'F', 'id':6},\n",
    "          {'name':'G', 'id':7},\n",
    "          {'name':'H', 'id':8},\n",
    "          {'name':'I', 'id':9},\n",
    "          {'name':'J', 'id':10},\n",
    "          {'name':'K', 'id':11},\n",
    "          {'name':'L', 'id':12},\n",
    "          {'name':'M', 'id':13},\n",
    "          {'name':'N', 'id':14},\n",
    "          {'name':'O', 'id':15},\n",
    "          {'name':'P', 'id':16},\n",
    "          {'name':'Q', 'id':17},\n",
    "          {'name':'R', 'id':18},\n",
    "          {'name':'S', 'id':19},\n",
    "          {'name':'T', 'id':20},\n",
    "          {'name':'U', 'id':21},\n",
    "          {'name':'V', 'id':22},\n",
    "          {'name':'W', 'id':23},\n",
    "          {'name':'X', 'id':24},\n",
    "          {'name':'Y', 'id':25},\n",
    "          {'name':'Z', 'id':26}]"
   ]
  },
  {
   "cell_type": "code",
   "execution_count": 3,
   "id": "b74cf1f0-0ea9-4546-b2ba-4ab33de3ec0c",
   "metadata": {},
   "outputs": [],
   "source": [
    "with open(ANNOTATION_PATH + '\\label_map.pbtxt', 'w') as f:\n",
    "    for label in labels:\n",
    "        f.write('item { \\n')\n",
    "        f.write('\\tname:\\'{}\\'\\n'.format(label['name']))\n",
    "        f.write('\\tid:{}\\n'.format(label['id']))\n",
    "        f.write('}\\n')"
   ]
  },
  {
   "cell_type": "code",
   "execution_count": 4,
   "id": "1099a506-2fdd-4925-ac35-3698e8619828",
   "metadata": {},
   "outputs": [],
   "source": [
    "import os"
   ]
  },
  {
   "cell_type": "code",
   "execution_count": 6,
   "id": "52875066-cdfd-4075-a87f-0f1e3df32c12",
   "metadata": {},
   "outputs": [
    {
     "name": "stderr",
     "output_type": "stream",
     "text": [
      "Traceback (most recent call last):\n",
      "  File \"C:\\Users\\Ivan\\Documents\\GA Tech\\Ubicomp\\Tensorflow Object Detection\\TFODCourse\\Tensorflow\\scripts\\generate_tfrecord.py\", line 29, in <module>\n",
      "    from object_detection.utils import dataset_util, label_map_util\n",
      "  File \"C:\\Users\\Ivan\\Documents\\GA Tech\\Ubicomp\\Tensorflow Object Detection\\TFODCourse\\tfod\\lib\\site-packages\\object_detection\\utils\\label_map_util.py\", line 29, in <module>\n",
      "    from object_detection.protos import string_int_label_map_pb2\n",
      "  File \"C:\\Users\\Ivan\\Documents\\GA Tech\\Ubicomp\\Tensorflow Object Detection\\TFODCourse\\tfod\\lib\\site-packages\\object_detection\\protos\\string_int_label_map_pb2.py\", line 5, in <module>\n",
      "    from google.protobuf.internal import builder as _builder\n",
      "ImportError: cannot import name 'builder' from 'google.protobuf.internal' (C:\\Users\\Ivan\\Documents\\GA Tech\\Ubicomp\\Tensorflow Object Detection\\TFODCourse\\tfod\\lib\\site-packages\\google\\protobuf\\internal\\__init__.py)\n",
      "Traceback (most recent call last):\n",
      "  File \"C:\\Users\\Ivan\\Documents\\GA Tech\\Ubicomp\\Tensorflow Object Detection\\TFODCourse\\Tensorflow\\scripts\\generate_tfrecord.py\", line 29, in <module>\n",
      "    from object_detection.utils import dataset_util, label_map_util\n",
      "  File \"C:\\Users\\Ivan\\Documents\\GA Tech\\Ubicomp\\Tensorflow Object Detection\\TFODCourse\\tfod\\lib\\site-packages\\object_detection\\utils\\label_map_util.py\", line 29, in <module>\n",
      "    from object_detection.protos import string_int_label_map_pb2\n",
      "  File \"C:\\Users\\Ivan\\Documents\\GA Tech\\Ubicomp\\Tensorflow Object Detection\\TFODCourse\\tfod\\lib\\site-packages\\object_detection\\protos\\string_int_label_map_pb2.py\", line 5, in <module>\n",
      "    from google.protobuf.internal import builder as _builder\n",
      "ImportError: cannot import name 'builder' from 'google.protobuf.internal' (C:\\Users\\Ivan\\Documents\\GA Tech\\Ubicomp\\Tensorflow Object Detection\\TFODCourse\\tfod\\lib\\site-packages\\google\\protobuf\\internal\\__init__.py)\n"
     ]
    }
   ],
   "source": [
    "!python {SCRIPTS_PATH + '/generate_tfrecord.py'} -x {IMAGE_PATH + '/train'} -l {ANNOTATION_PATH + '/label_map.pbtxt'} -o {ANNOTATION_PATH + '/train.record'}\n",
    "!python {SCRIPTS_PATH + '/generate_tfrecord.py'} -x {IMAGE_PATH + '/test'} -l {ANNOTATION_PATH + '/label_map.pbtxt'} -o {ANNOTATION_PATH + '/test.record'}"
   ]
  },
  {
   "cell_type": "code",
   "execution_count": null,
   "id": "0f79c18e-a124-4ab0-a0a9-1dc6db8a54d2",
   "metadata": {},
   "outputs": [],
   "source": []
  }
 ],
 "metadata": {
  "kernelspec": {
   "display_name": "tfod",
   "language": "python",
   "name": "tfod"
  },
  "language_info": {
   "codemirror_mode": {
    "name": "ipython",
    "version": 3
   },
   "file_extension": ".py",
   "mimetype": "text/x-python",
   "name": "python",
   "nbconvert_exporter": "python",
   "pygments_lexer": "ipython3",
   "version": "3.10.6"
  }
 },
 "nbformat": 4,
 "nbformat_minor": 5
}
